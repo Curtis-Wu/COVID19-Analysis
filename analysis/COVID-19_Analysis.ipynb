{
 "cells": [
  {
   "cell_type": "markdown",
   "metadata": {},
   "source": [
    "# COVID-19 Analysis"
   ]
  },
  {
   "cell_type": "markdown",
   "metadata": {},
   "source": [
    "## High Level Dataset Review\n",
    "\n",
    "The dataset is about the number of deaths in the US caused by COVID-19, pneumia, influenza, by different states, sex, and age groups. The data was reported by the CDC and collected by NCHS/DVS, which typically gathers such information through national health statistics, reporting systems, and other public health surveillance systems. The total size of the data frame is 85374 * 16. It is comprised of two separate datasets: \n",
    "- `cdc_death_counts_by_sex_age_state` : which breaks the weekly deaths down by age, sex, and state\n",
    "- `cdc_death_counts_by_conditions` : which breaks the weekly deaths down by other reported conditions\n",
    "\n",
    "The columns of : `cdc_death_counts_by_sex_age_state` <br>\n",
    "<ul>\n",
    "Data As of: The date of analysis of the report.<br>\n",
    "Start Date: First date of data period.<br>\n",
    "End Date: Last date of data period.<br>\n",
    "Group: Indicator of whether data is measured by Month, by Year, or Total<br>\n",
    "Year: Year in which death occured when data is grouped by year.<br>\n",
    "Month: Month in which death occured when data is grouped by month.<br>\n",
    "State: Jurisdiction of occurence. eg. The state where the data was collected from.<br>\n",
    "</ul>\n",
    "\n",
    "The columns of : `cdc_death_counts_by_conditions` <br>\n",
    "<ul>\n",
    "Data As of: The date of analysis of the report.<br>\n",
    "Start Date: First date of data period.<br>\n",
    "End Date: Last date of data period.<br>\n",
    "Group: Indicator of whether data is measured by Month, by Year, or Total<br>\n",
    "Year: Year in which death occured when data is grouped by year.<br>\n",
    "State: Jurisdiction of occurence. eg. The state where the data was collected from.<br>\n",
    "Month: Month in which death occured when data is grouped by month.<br>\n",
    "Condition Group : This is a broad label for which, Condition, is a sub label.<br>\n",
    "Condition : This is the specific label for the reported condition.<br>\n",
    "ICD10_codes : These are specific codes for the conditions reported.<br>\n",
    "Age Group : This is the age group for which the data is being reported.<br>\n",
    "COVID-19 Deaths : This is the number of COVID-19 Deaths reported for the record.<br>\n",
    "Number of Mentions : This represents the number of instances where the condition was cited on the death certificate.<br>\n",
    "Flag : This is an indicator that <br>\n",
    "</ul>\n",
    "\n",
    "\n",
    "We're exploring data about number of deaths in the US caused by COVID-19, pneumia, influenza, by different states, sex, and age groups. The granularity of the data dependes on the specific (combination of the) columns. For example, a data row with columns of By Total, United States, All Sexes, All Ages indicates the total amount of COVID-19 Deaths in the united states from all states, all sexes, all ages groups, and the time frame is from the start of 2020, to 2022-3-19. While a data entry with By Month, California, Male, Under 1 year represents the number of data specific to that group of people during that specific time frame. The distribution of the data was explored, and majority of deaths are concentrated in people with older ages, and there are outliers. There are \"missing\" COVID-19 Deaths values, likely resulting from the way that the data set handles 0 values."
   ]
  },
  {
   "cell_type": "markdown",
   "metadata": {},
   "source": [
    "## Discussion of Potential Dataset Bias\n",
    "Because these counts are based on coroner reports and other agregated data, the quality of the data set depends on the quality of the incoming dataset. If there were systematic issues with determining cause of death those would be reflected in the dataset. We are going to perform analysis on the data as reported, acknowledging the caveat above. \n"
   ]
  },
  {
   "cell_type": "markdown",
   "metadata": {},
   "source": [
    "## Initial Dataframe loading EDA"
   ]
  },
  {
   "cell_type": "code",
   "execution_count": 219,
   "metadata": {},
   "outputs": [],
   "source": [
    "import pandas as pd\n",
    "import numpy as np\n",
    "import matplotlib.pyplot as plt\n",
    "import seaborn as sns\n",
    "import warnings\n",
    "from sklearn.preprocessing import OneHotEncoder\n",
    "import sklearn as sk\n",
    "from sklearn.model_selection import train_test_split, KFold\n",
    "from sklearn.linear_model import LinearRegression, HuberRegressor, SGDRegressor\n",
    "from sklearn.preprocessing import OneHotEncoder\n",
    "from sklearn.compose import ColumnTransformer\n",
    "from sklearn.pipeline import Pipeline\n",
    "from sklearn.metrics import mean_squared_error, mean_absolute_error, mean_absolute_percentage_error\n",
    "warnings.filterwarnings('ignore')"
   ]
  },
  {
   "cell_type": "code",
   "execution_count": 220,
   "metadata": {},
   "outputs": [
    {
     "data": {
      "text/html": [
       "<div>\n",
       "<style scoped>\n",
       "    .dataframe tbody tr th:only-of-type {\n",
       "        vertical-align: middle;\n",
       "    }\n",
       "\n",
       "    .dataframe tbody tr th {\n",
       "        vertical-align: top;\n",
       "    }\n",
       "\n",
       "    .dataframe thead th {\n",
       "        text-align: right;\n",
       "    }\n",
       "</style>\n",
       "<table border=\"1\" class=\"dataframe\">\n",
       "  <thead>\n",
       "    <tr style=\"text-align: right;\">\n",
       "      <th></th>\n",
       "      <th>Data As Of</th>\n",
       "      <th>Start Date</th>\n",
       "      <th>End Date</th>\n",
       "      <th>Group</th>\n",
       "      <th>Year</th>\n",
       "      <th>Month</th>\n",
       "      <th>State</th>\n",
       "      <th>Condition Group</th>\n",
       "      <th>Condition</th>\n",
       "      <th>ICD10_codes</th>\n",
       "      <th>Age Group</th>\n",
       "      <th>COVID-19 Deaths</th>\n",
       "      <th>Number of Mentions</th>\n",
       "      <th>Flag</th>\n",
       "    </tr>\n",
       "  </thead>\n",
       "  <tbody>\n",
       "    <tr>\n",
       "      <th>0</th>\n",
       "      <td>2022-03-20</td>\n",
       "      <td>2020-01-01</td>\n",
       "      <td>2022-03-19</td>\n",
       "      <td>By Total</td>\n",
       "      <td>NaN</td>\n",
       "      <td>NaN</td>\n",
       "      <td>United States</td>\n",
       "      <td>Respiratory diseases</td>\n",
       "      <td>Influenza and pneumonia</td>\n",
       "      <td>J09-J18</td>\n",
       "      <td>0-24</td>\n",
       "      <td>1277.0</td>\n",
       "      <td>1334.0</td>\n",
       "      <td>NaN</td>\n",
       "    </tr>\n",
       "    <tr>\n",
       "      <th>1</th>\n",
       "      <td>2022-03-20</td>\n",
       "      <td>2020-01-01</td>\n",
       "      <td>2022-03-19</td>\n",
       "      <td>By Total</td>\n",
       "      <td>NaN</td>\n",
       "      <td>NaN</td>\n",
       "      <td>United States</td>\n",
       "      <td>Respiratory diseases</td>\n",
       "      <td>Influenza and pneumonia</td>\n",
       "      <td>J09-J18</td>\n",
       "      <td>25-34</td>\n",
       "      <td>5351.0</td>\n",
       "      <td>5551.0</td>\n",
       "      <td>NaN</td>\n",
       "    </tr>\n",
       "    <tr>\n",
       "      <th>2</th>\n",
       "      <td>2022-03-20</td>\n",
       "      <td>2020-01-01</td>\n",
       "      <td>2022-03-19</td>\n",
       "      <td>By Total</td>\n",
       "      <td>NaN</td>\n",
       "      <td>NaN</td>\n",
       "      <td>United States</td>\n",
       "      <td>Respiratory diseases</td>\n",
       "      <td>Influenza and pneumonia</td>\n",
       "      <td>J09-J18</td>\n",
       "      <td>35-44</td>\n",
       "      <td>14089.0</td>\n",
       "      <td>14644.0</td>\n",
       "      <td>NaN</td>\n",
       "    </tr>\n",
       "    <tr>\n",
       "      <th>3</th>\n",
       "      <td>2022-03-20</td>\n",
       "      <td>2020-01-01</td>\n",
       "      <td>2022-03-19</td>\n",
       "      <td>By Total</td>\n",
       "      <td>NaN</td>\n",
       "      <td>NaN</td>\n",
       "      <td>United States</td>\n",
       "      <td>Respiratory diseases</td>\n",
       "      <td>Influenza and pneumonia</td>\n",
       "      <td>J09-J18</td>\n",
       "      <td>45-54</td>\n",
       "      <td>35120.0</td>\n",
       "      <td>36444.0</td>\n",
       "      <td>NaN</td>\n",
       "    </tr>\n",
       "    <tr>\n",
       "      <th>4</th>\n",
       "      <td>2022-03-20</td>\n",
       "      <td>2020-01-01</td>\n",
       "      <td>2022-03-19</td>\n",
       "      <td>By Total</td>\n",
       "      <td>NaN</td>\n",
       "      <td>NaN</td>\n",
       "      <td>United States</td>\n",
       "      <td>Respiratory diseases</td>\n",
       "      <td>Influenza and pneumonia</td>\n",
       "      <td>J09-J18</td>\n",
       "      <td>55-64</td>\n",
       "      <td>76708.0</td>\n",
       "      <td>79386.0</td>\n",
       "      <td>NaN</td>\n",
       "    </tr>\n",
       "  </tbody>\n",
       "</table>\n",
       "</div>"
      ],
      "text/plain": [
       "  Data As Of Start Date   End Date     Group  Year  Month          State  \\\n",
       "0 2022-03-20 2020-01-01 2022-03-19  By Total   NaN    NaN  United States   \n",
       "1 2022-03-20 2020-01-01 2022-03-19  By Total   NaN    NaN  United States   \n",
       "2 2022-03-20 2020-01-01 2022-03-19  By Total   NaN    NaN  United States   \n",
       "3 2022-03-20 2020-01-01 2022-03-19  By Total   NaN    NaN  United States   \n",
       "4 2022-03-20 2020-01-01 2022-03-19  By Total   NaN    NaN  United States   \n",
       "\n",
       "        Condition Group                Condition ICD10_codes Age Group  \\\n",
       "0  Respiratory diseases  Influenza and pneumonia     J09-J18      0-24   \n",
       "1  Respiratory diseases  Influenza and pneumonia     J09-J18     25-34   \n",
       "2  Respiratory diseases  Influenza and pneumonia     J09-J18     35-44   \n",
       "3  Respiratory diseases  Influenza and pneumonia     J09-J18     45-54   \n",
       "4  Respiratory diseases  Influenza and pneumonia     J09-J18     55-64   \n",
       "\n",
       "   COVID-19 Deaths  Number of Mentions Flag  \n",
       "0           1277.0              1334.0  NaN  \n",
       "1           5351.0              5551.0  NaN  \n",
       "2          14089.0             14644.0  NaN  \n",
       "3          35120.0             36444.0  NaN  \n",
       "4          76708.0             79386.0  NaN  "
      ]
     },
     "metadata": {},
     "output_type": "display_data"
    },
    {
     "data": {
      "text/plain": [
       "(385020, 14)"
      ]
     },
     "metadata": {},
     "output_type": "display_data"
    }
   ],
   "source": [
    "conditions = pd.read_csv(\n",
    "    filepath_or_buffer= \"data/cdc_death_counts_by_conditions.csv\", \n",
    "    parse_dates=[0,1,2]\n",
    "    )\n",
    "display(conditions.head(5))\n",
    "display(conditions.shape)"
   ]
  },
  {
   "cell_type": "code",
   "execution_count": 221,
   "metadata": {},
   "outputs": [
    {
     "data": {
      "text/plain": [
       "(85374, 16)"
      ]
     },
     "metadata": {},
     "output_type": "display_data"
    },
    {
     "data": {
      "text/html": [
       "<div>\n",
       "<style scoped>\n",
       "    .dataframe tbody tr th:only-of-type {\n",
       "        vertical-align: middle;\n",
       "    }\n",
       "\n",
       "    .dataframe tbody tr th {\n",
       "        vertical-align: top;\n",
       "    }\n",
       "\n",
       "    .dataframe thead th {\n",
       "        text-align: right;\n",
       "    }\n",
       "</style>\n",
       "<table border=\"1\" class=\"dataframe\">\n",
       "  <thead>\n",
       "    <tr style=\"text-align: right;\">\n",
       "      <th></th>\n",
       "      <th>Data As Of</th>\n",
       "      <th>Start Date</th>\n",
       "      <th>End Date</th>\n",
       "      <th>Group</th>\n",
       "      <th>Year</th>\n",
       "      <th>Month</th>\n",
       "      <th>State</th>\n",
       "      <th>Sex</th>\n",
       "      <th>Age Group</th>\n",
       "      <th>COVID-19 Deaths</th>\n",
       "      <th>Total Deaths</th>\n",
       "      <th>Pneumonia Deaths</th>\n",
       "      <th>Pneumonia and COVID-19 Deaths</th>\n",
       "      <th>Influenza Deaths</th>\n",
       "      <th>Pneumonia, Influenza, or COVID-19 Deaths</th>\n",
       "      <th>Footnote</th>\n",
       "    </tr>\n",
       "  </thead>\n",
       "  <tbody>\n",
       "    <tr>\n",
       "      <th>0</th>\n",
       "      <td>2022-03-23</td>\n",
       "      <td>2020-01-01</td>\n",
       "      <td>2022-03-19</td>\n",
       "      <td>By Total</td>\n",
       "      <td>NaN</td>\n",
       "      <td>NaN</td>\n",
       "      <td>United States</td>\n",
       "      <td>All Sexes</td>\n",
       "      <td>All Ages</td>\n",
       "      <td>974282.0</td>\n",
       "      <td>7520550.0</td>\n",
       "      <td>855731.0</td>\n",
       "      <td>504882.0</td>\n",
       "      <td>10684.0</td>\n",
       "      <td>1334231.0</td>\n",
       "      <td>NaN</td>\n",
       "    </tr>\n",
       "    <tr>\n",
       "      <th>1</th>\n",
       "      <td>2022-03-23</td>\n",
       "      <td>2020-01-01</td>\n",
       "      <td>2022-03-19</td>\n",
       "      <td>By Total</td>\n",
       "      <td>NaN</td>\n",
       "      <td>NaN</td>\n",
       "      <td>United States</td>\n",
       "      <td>All Sexes</td>\n",
       "      <td>Under 1 year</td>\n",
       "      <td>242.0</td>\n",
       "      <td>41777.0</td>\n",
       "      <td>495.0</td>\n",
       "      <td>28.0</td>\n",
       "      <td>28.0</td>\n",
       "      <td>736.0</td>\n",
       "      <td>NaN</td>\n",
       "    </tr>\n",
       "    <tr>\n",
       "      <th>2</th>\n",
       "      <td>2022-03-23</td>\n",
       "      <td>2020-01-01</td>\n",
       "      <td>2022-03-19</td>\n",
       "      <td>By Total</td>\n",
       "      <td>NaN</td>\n",
       "      <td>NaN</td>\n",
       "      <td>United States</td>\n",
       "      <td>All Sexes</td>\n",
       "      <td>0-17 years</td>\n",
       "      <td>933.0</td>\n",
       "      <td>74176.0</td>\n",
       "      <td>1460.0</td>\n",
       "      <td>252.0</td>\n",
       "      <td>204.0</td>\n",
       "      <td>2342.0</td>\n",
       "      <td>NaN</td>\n",
       "    </tr>\n",
       "    <tr>\n",
       "      <th>3</th>\n",
       "      <td>2022-03-23</td>\n",
       "      <td>2020-01-01</td>\n",
       "      <td>2022-03-19</td>\n",
       "      <td>By Total</td>\n",
       "      <td>NaN</td>\n",
       "      <td>NaN</td>\n",
       "      <td>United States</td>\n",
       "      <td>All Sexes</td>\n",
       "      <td>1-4 years</td>\n",
       "      <td>113.0</td>\n",
       "      <td>7791.0</td>\n",
       "      <td>293.0</td>\n",
       "      <td>29.0</td>\n",
       "      <td>70.0</td>\n",
       "      <td>447.0</td>\n",
       "      <td>NaN</td>\n",
       "    </tr>\n",
       "    <tr>\n",
       "      <th>4</th>\n",
       "      <td>2022-03-23</td>\n",
       "      <td>2020-01-01</td>\n",
       "      <td>2022-03-19</td>\n",
       "      <td>By Total</td>\n",
       "      <td>NaN</td>\n",
       "      <td>NaN</td>\n",
       "      <td>United States</td>\n",
       "      <td>All Sexes</td>\n",
       "      <td>5-14 years</td>\n",
       "      <td>296.0</td>\n",
       "      <td>12438.0</td>\n",
       "      <td>424.0</td>\n",
       "      <td>96.0</td>\n",
       "      <td>82.0</td>\n",
       "      <td>705.0</td>\n",
       "      <td>NaN</td>\n",
       "    </tr>\n",
       "  </tbody>\n",
       "</table>\n",
       "</div>"
      ],
      "text/plain": [
       "  Data As Of Start Date   End Date     Group  Year  Month          State  \\\n",
       "0 2022-03-23 2020-01-01 2022-03-19  By Total   NaN    NaN  United States   \n",
       "1 2022-03-23 2020-01-01 2022-03-19  By Total   NaN    NaN  United States   \n",
       "2 2022-03-23 2020-01-01 2022-03-19  By Total   NaN    NaN  United States   \n",
       "3 2022-03-23 2020-01-01 2022-03-19  By Total   NaN    NaN  United States   \n",
       "4 2022-03-23 2020-01-01 2022-03-19  By Total   NaN    NaN  United States   \n",
       "\n",
       "         Sex     Age Group  COVID-19 Deaths  Total Deaths  Pneumonia Deaths  \\\n",
       "0  All Sexes      All Ages         974282.0     7520550.0          855731.0   \n",
       "1  All Sexes  Under 1 year            242.0       41777.0             495.0   \n",
       "2  All Sexes    0-17 years            933.0       74176.0            1460.0   \n",
       "3  All Sexes     1-4 years            113.0        7791.0             293.0   \n",
       "4  All Sexes    5-14 years            296.0       12438.0             424.0   \n",
       "\n",
       "   Pneumonia and COVID-19 Deaths  Influenza Deaths  \\\n",
       "0                       504882.0           10684.0   \n",
       "1                           28.0              28.0   \n",
       "2                          252.0             204.0   \n",
       "3                           29.0              70.0   \n",
       "4                           96.0              82.0   \n",
       "\n",
       "   Pneumonia, Influenza, or COVID-19 Deaths Footnote  \n",
       "0                                 1334231.0      NaN  \n",
       "1                                     736.0      NaN  \n",
       "2                                    2342.0      NaN  \n",
       "3                                     447.0      NaN  \n",
       "4                                     705.0      NaN  "
      ]
     },
     "metadata": {},
     "output_type": "display_data"
    }
   ],
   "source": [
    "sas = pd.read_csv(\"data/cdc_death_counts_by_sex_age_state.csv\", parse_dates = [0,1,2])\n",
    "display(sas.shape)\n",
    "display(sas.head(5))"
   ]
  },
  {
   "cell_type": "markdown",
   "metadata": {},
   "source": [
    "## Investigating Column Values"
   ]
  },
  {
   "cell_type": "code",
   "execution_count": 222,
   "metadata": {},
   "outputs": [
    {
     "name": "stdout",
     "output_type": "stream",
     "text": [
      "['0-24' '25-34' '35-44' '45-54' '55-64' '65-74' '75-84' '85+' 'Not stated'\n",
      " 'All Ages']\n",
      "['All Ages' 'Under 1 year' '0-17 years' '1-4 years' '5-14 years'\n",
      " '15-24 years' '18-29 years' '25-34 years' '30-39 years' '35-44 years'\n",
      " '40-49 years' '45-54 years' '50-64 years' '55-64 years' '65-74 years'\n",
      " '75-84 years' '85 years and over']\n"
     ]
    }
   ],
   "source": [
    "print(conditions[\"Age Group\"].unique())\n",
    "print(sas[\"Age Group\"].unique())"
   ]
  },
  {
   "cell_type": "markdown",
   "metadata": {},
   "source": [
    "In both datasets, there are is `All Ages` in addition to all other ages. \n",
    "\n",
    "It looks like in `cdc_death_counts_by_conditions` there is a `Not stated` label \n",
    "\n",
    "It looks like in `cdc_death_counts_by_sex_age_state`  there are multiple overlapping age groups. \n",
    "\n",
    "We'll need to consider how to account for these features"
   ]
  },
  {
   "cell_type": "code",
   "execution_count": 223,
   "metadata": {},
   "outputs": [
    {
     "data": {
      "text/plain": [
       "Condition Group\n",
       "Circulatory diseases                                                         117180\n",
       "Respiratory diseases                                                         100440\n",
       "Sepsis                                                                        16740\n",
       "Malignant neoplasms                                                           16740\n",
       "Diabetes                                                                      16740\n",
       "Obesity                                                                       16740\n",
       "Alzheimer disease                                                             16740\n",
       "Vascular and unspecified dementia                                             16740\n",
       "Renal failure                                                                 16740\n",
       "Intentional and unintentional injury, poisoning, and other adverse events     16740\n",
       "All other conditions and causes (residual)                                    16740\n",
       "COVID-19                                                                      16740\n",
       "Name: count, dtype: int64"
      ]
     },
     "metadata": {},
     "output_type": "display_data"
    }
   ],
   "source": [
    "display(conditions['Condition Group'].value_counts())\n"
   ]
  },
  {
   "cell_type": "code",
   "execution_count": 224,
   "metadata": {},
   "outputs": [
    {
     "data": {
      "text/plain": [
       "Condition\n",
       "Influenza and pneumonia                                                      16740\n",
       "Other diseases of the circulatory system                                     16740\n",
       "All other conditions and causes (residual)                                   16740\n",
       "Intentional and unintentional injury, poisoning, and other adverse events    16740\n",
       "Renal failure                                                                16740\n",
       "Vascular and unspecified dementia                                            16740\n",
       "Alzheimer disease                                                            16740\n",
       "Obesity                                                                      16740\n",
       "Diabetes                                                                     16740\n",
       "Malignant neoplasms                                                          16740\n",
       "Sepsis                                                                       16740\n",
       "Cerebrovascular diseases                                                     16740\n",
       "Chronic lower respiratory diseases                                           16740\n",
       "Heart failure                                                                16740\n",
       "Cardiac arrhythmia                                                           16740\n",
       "Cardiac arrest                                                               16740\n",
       "Ischemic heart disease                                                       16740\n",
       "Hypertensive diseases                                                        16740\n",
       "Other diseases of the respiratory system                                     16740\n",
       "Respiratory arrest                                                           16740\n",
       "Respiratory failure                                                          16740\n",
       "Adult respiratory distress syndrome                                          16740\n",
       "COVID-19                                                                     16740\n",
       "Name: count, dtype: int64"
      ]
     },
     "metadata": {},
     "output_type": "display_data"
    }
   ],
   "source": [
    "display(conditions['Condition'].value_counts())"
   ]
  },
  {
   "cell_type": "code",
   "execution_count": 225,
   "metadata": {},
   "outputs": [
    {
     "name": "stdout",
     "output_type": "stream",
     "text": [
      "<DatetimeArray>\n",
      "['2022-03-20 00:00:00']\n",
      "Length: 1, dtype: datetime64[ns]\n",
      "<DatetimeArray>\n",
      "['2022-03-23 00:00:00']\n",
      "Length: 1, dtype: datetime64[ns]\n"
     ]
    }
   ],
   "source": [
    "print(conditions[\"Data As Of\"].unique())\n",
    "print(sas[\"Data As Of\"].unique())"
   ]
  },
  {
   "cell_type": "markdown",
   "metadata": {},
   "source": [
    "This column does not contain useful information for our analysis"
   ]
  },
  {
   "cell_type": "code",
   "execution_count": 226,
   "metadata": {},
   "outputs": [
    {
     "name": "stdout",
     "output_type": "stream",
     "text": [
      "(27,)\n",
      "(27,)\n",
      "(27,)\n",
      "(27,)\n"
     ]
    }
   ],
   "source": [
    "print(conditions[\"Start Date\"].unique().shape)\n",
    "print(conditions[\"End Date\"].unique().shape)\n",
    "print(sas[\"Start Date\"].unique().shape)\n",
    "print(sas[\"End Date\"].unique().shape)"
   ]
  },
  {
   "cell_type": "markdown",
   "metadata": {},
   "source": [
    "It looks like we have 27 months of data in both tables"
   ]
  },
  {
   "cell_type": "code",
   "execution_count": 227,
   "metadata": {},
   "outputs": [
    {
     "name": "stdout",
     "output_type": "stream",
     "text": [
      "[nan\n",
      " 'One or more data cells have counts between 1-9 and have been suppressed in accordance with NCHS confidentiality standards.']\n",
      "[nan\n",
      " 'One or more data cells have counts between 1-9 and have been suppressed in accordance with NCHS confidentiality standards.']\n"
     ]
    }
   ],
   "source": [
    "print(conditions[\"Flag\"].unique())\n",
    "print(sas[\"Footnote\"].unique())"
   ]
  },
  {
   "cell_type": "markdown",
   "metadata": {},
   "source": [
    "Some of the deaths have been censored, we'll have to consider that"
   ]
  },
  {
   "cell_type": "code",
   "execution_count": 228,
   "metadata": {},
   "outputs": [
    {
     "name": "stdout",
     "output_type": "stream",
     "text": [
      "['United States' 'Alabama' 'Alaska' 'Arizona' 'Arkansas' 'California'\n",
      " 'Colorado' 'Connecticut' 'Delaware' 'District of Columbia' 'Florida'\n",
      " 'Georgia' 'Hawaii' 'Idaho' 'Illinois' 'Indiana' 'Iowa' 'Kansas'\n",
      " 'Kentucky' 'Louisiana' 'Maine' 'Maryland' 'Massachusetts' 'Michigan'\n",
      " 'Minnesota' 'Mississippi' 'Missouri' 'Montana' 'Nebraska' 'Nevada'\n",
      " 'New Hampshire' 'New Jersey' 'New Mexico' 'New York' 'New York City'\n",
      " 'North Carolina' 'North Dakota' 'Ohio' 'Oklahoma' 'Oregon' 'Pennsylvania'\n",
      " 'Rhode Island' 'South Carolina' 'South Dakota' 'Tennessee' 'Texas' 'Utah'\n",
      " 'Vermont' 'Virginia' 'Washington' 'West Virginia' 'Wisconsin' 'Wyoming'\n",
      " 'Puerto Rico']\n",
      "['United States' 'Alabama' 'Alaska' 'Arizona' 'Arkansas' 'California'\n",
      " 'Colorado' 'Connecticut' 'Delaware' 'District of Columbia' 'Florida'\n",
      " 'Georgia' 'Hawaii' 'Idaho' 'Illinois' 'Indiana' 'Iowa' 'Kansas'\n",
      " 'Kentucky' 'Louisiana' 'Maine' 'Maryland' 'Massachusetts' 'Michigan'\n",
      " 'Minnesota' 'Mississippi' 'Missouri' 'Montana' 'Nebraska' 'Nevada'\n",
      " 'New Hampshire' 'New Jersey' 'New Mexico' 'New York' 'New York City'\n",
      " 'North Carolina' 'North Dakota' 'Ohio' 'Oklahoma' 'Oregon' 'Pennsylvania'\n",
      " 'Rhode Island' 'South Carolina' 'South Dakota' 'Tennessee' 'Texas' 'Utah'\n",
      " 'Vermont' 'Virginia' 'Washington' 'West Virginia' 'Wisconsin' 'Wyoming'\n",
      " 'Puerto Rico']\n"
     ]
    }
   ],
   "source": [
    "print(conditions[\"State\"].unique())\n",
    "print(sas[\"State\"].unique())"
   ]
  },
  {
   "cell_type": "markdown",
   "metadata": {},
   "source": [
    "It looks like `United States` is represented along with all the other states... and PR and DC, and NYC and NY are reported separately"
   ]
  },
  {
   "cell_type": "code",
   "execution_count": 229,
   "metadata": {},
   "outputs": [
    {
     "name": "stdout",
     "output_type": "stream",
     "text": [
      "['By Total' 'By Year' 'By Month']\n",
      "['By Total' 'By Year' 'By Month']\n"
     ]
    }
   ],
   "source": [
    "print(conditions[\"Group\"].unique())\n",
    "print(sas[\"Group\"].unique())"
   ]
  },
  {
   "cell_type": "markdown",
   "metadata": {},
   "source": [
    "We've got multiple levels of granularity here"
   ]
  },
  {
   "cell_type": "code",
   "execution_count": 230,
   "metadata": {},
   "outputs": [
    {
     "name": "stdout",
     "output_type": "stream",
     "text": [
      "[  nan 2020. 2021. 2022.]\n",
      "[nan  1.  2.  3.  4.  5.  6.  7.  8.  9. 10. 11. 12.]\n",
      "[  nan 2020. 2021. 2022.]\n",
      "[nan  1.  2.  3.  4.  5.  6.  7.  8.  9. 10. 11. 12.]\n"
     ]
    }
   ],
   "source": [
    "print(conditions[\"Year\"].unique())\n",
    "print(conditions[\"Month\"].unique())\n",
    "print(sas[\"Year\"].unique())\n",
    "print(sas[\"Month\"].unique())"
   ]
  },
  {
   "cell_type": "markdown",
   "metadata": {},
   "source": [
    "Nothing surprising here"
   ]
  },
  {
   "cell_type": "code",
   "execution_count": 231,
   "metadata": {},
   "outputs": [
    {
     "name": "stdout",
     "output_type": "stream",
     "text": [
      "['All Sexes' 'Male' 'Female']\n"
     ]
    }
   ],
   "source": [
    "print(sas[\"Sex\"].unique())"
   ]
  },
  {
   "cell_type": "markdown",
   "metadata": {},
   "source": [
    "It looks like there is an `All Sexes` label we'll need address"
   ]
  },
  {
   "cell_type": "code",
   "execution_count": 232,
   "metadata": {},
   "outputs": [
    {
     "name": "stdout",
     "output_type": "stream",
     "text": [
      "['0-24' '25-34' '35-44' '45-54' '55-64' '65-74' '75-84' '85+' 'Not stated'\n",
      " 'All Ages']\n"
     ]
    }
   ],
   "source": [
    "print(conditions[\"Age Group\"].unique())"
   ]
  },
  {
   "cell_type": "markdown",
   "metadata": {},
   "source": [
    "Nonthing surpising here"
   ]
  },
  {
   "cell_type": "code",
   "execution_count": 233,
   "metadata": {},
   "outputs": [
    {
     "name": "stdout",
     "output_type": "stream",
     "text": [
      "['All Ages' 'Under 1 year' '0-17 years' '1-4 years' '5-14 years'\n",
      " '15-24 years' '18-29 years' '25-34 years' '30-39 years' '35-44 years'\n",
      " '40-49 years' '45-54 years' '50-64 years' '55-64 years' '65-74 years'\n",
      " '75-84 years' '85 years and over']\n"
     ]
    }
   ],
   "source": [
    "print(sas[\"Age Group\"].unique())"
   ]
  },
  {
   "cell_type": "markdown",
   "metadata": {},
   "source": [
    "Interestingly, it looks like there are ways of bracketing age, we'll have to make sure to only use one at at time"
   ]
  },
  {
   "cell_type": "markdown",
   "metadata": {},
   "source": [
    "## Granularity Investigation\n",
    "We will take a look at the granularity of these datasets in this section and make any modifications as necessary"
   ]
  },
  {
   "cell_type": "code",
   "execution_count": 234,
   "metadata": {},
   "outputs": [
    {
     "data": {
      "text/plain": [
       "array([nan,\n",
       "       'One or more data cells have counts between 1-9 and have been suppressed in accordance with NCHS confidentiality standards.'],\n",
       "      dtype=object)"
      ]
     },
     "metadata": {},
     "output_type": "display_data"
    },
    {
     "data": {
      "text/plain": [
       "array([nan,\n",
       "       'One or more data cells have counts between 1-9 and have been suppressed in accordance with NCHS confidentiality standards.'],\n",
       "      dtype=object)"
      ]
     },
     "metadata": {},
     "output_type": "display_data"
    }
   ],
   "source": [
    "display(conditions['Flag'].unique())\n",
    "display(sas['Footnote'].unique())\n"
   ]
  },
  {
   "cell_type": "markdown",
   "metadata": {},
   "source": [
    "It looks like some of the records will contain redacted information to protect privacy. We'll take a look at that soon"
   ]
  },
  {
   "cell_type": "code",
   "execution_count": 235,
   "metadata": {},
   "outputs": [
    {
     "data": {
      "text/plain": [
       "array(['By Total', 'By Year', 'By Month'], dtype=object)"
      ]
     },
     "metadata": {},
     "output_type": "display_data"
    },
    {
     "data": {
      "text/plain": [
       "array(['By Total', 'By Year', 'By Month'], dtype=object)"
      ]
     },
     "metadata": {},
     "output_type": "display_data"
    }
   ],
   "source": [
    "display(conditions['Group'].unique())\n",
    "display(sas['Group'].unique())"
   ]
  },
  {
   "cell_type": "markdown",
   "metadata": {},
   "source": [
    "It also looks like there are varying levels of temporal granularity. If we consider all of these records we would be double counting "
   ]
  },
  {
   "cell_type": "code",
   "execution_count": 236,
   "metadata": {},
   "outputs": [
    {
     "data": {
      "text/plain": [
       "Group   \n",
       "By Month    335340\n",
       "By Year      37260\n",
       "By Total     12420\n",
       "Name: count, dtype: int64"
      ]
     },
     "metadata": {},
     "output_type": "display_data"
    },
    {
     "data": {
      "text/plain": [
       "Group   \n",
       "By Month    74358\n",
       "By Year      8262\n",
       "By Total     2754\n",
       "Name: count, dtype: int64"
      ]
     },
     "metadata": {},
     "output_type": "display_data"
    }
   ],
   "source": [
    "display(conditions[['Group']].value_counts())\n",
    "display(sas[['Group']].value_counts())"
   ]
  },
  {
   "cell_type": "markdown",
   "metadata": {},
   "source": [
    "The varying granularity of the `Group` column is resulting in double counting\n"
   ]
  },
  {
   "cell_type": "code",
   "execution_count": 237,
   "metadata": {},
   "outputs": [
    {
     "data": {
      "text/html": [
       "<div>\n",
       "<style scoped>\n",
       "    .dataframe tbody tr th:only-of-type {\n",
       "        vertical-align: middle;\n",
       "    }\n",
       "\n",
       "    .dataframe tbody tr th {\n",
       "        vertical-align: top;\n",
       "    }\n",
       "\n",
       "    .dataframe thead th {\n",
       "        text-align: right;\n",
       "    }\n",
       "</style>\n",
       "<table border=\"1\" class=\"dataframe\">\n",
       "  <thead>\n",
       "    <tr style=\"text-align: right;\">\n",
       "      <th></th>\n",
       "      <th>COVID-19 Deaths</th>\n",
       "    </tr>\n",
       "    <tr>\n",
       "      <th>Group</th>\n",
       "      <th></th>\n",
       "    </tr>\n",
       "  </thead>\n",
       "  <tbody>\n",
       "    <tr>\n",
       "      <th>By Month</th>\n",
       "      <td>14448024.0</td>\n",
       "    </tr>\n",
       "    <tr>\n",
       "      <th>By Total</th>\n",
       "      <td>14769969.0</td>\n",
       "    </tr>\n",
       "    <tr>\n",
       "      <th>By Year</th>\n",
       "      <td>14747342.0</td>\n",
       "    </tr>\n",
       "  </tbody>\n",
       "</table>\n",
       "</div>"
      ],
      "text/plain": [
       "          COVID-19 Deaths\n",
       "Group                    \n",
       "By Month       14448024.0\n",
       "By Total       14769969.0\n",
       "By Year        14747342.0"
      ]
     },
     "metadata": {},
     "output_type": "display_data"
    },
    {
     "data": {
      "text/html": [
       "<div>\n",
       "<style scoped>\n",
       "    .dataframe tbody tr th:only-of-type {\n",
       "        vertical-align: middle;\n",
       "    }\n",
       "\n",
       "    .dataframe tbody tr th {\n",
       "        vertical-align: top;\n",
       "    }\n",
       "\n",
       "    .dataframe thead th {\n",
       "        text-align: right;\n",
       "    }\n",
       "</style>\n",
       "<table border=\"1\" class=\"dataframe\">\n",
       "  <thead>\n",
       "    <tr style=\"text-align: right;\">\n",
       "      <th></th>\n",
       "      <th>COVID-19 Deaths</th>\n",
       "    </tr>\n",
       "    <tr>\n",
       "      <th>Group</th>\n",
       "      <th></th>\n",
       "    </tr>\n",
       "  </thead>\n",
       "  <tbody>\n",
       "    <tr>\n",
       "      <th>By Month</th>\n",
       "      <td>8740895.0</td>\n",
       "    </tr>\n",
       "    <tr>\n",
       "      <th>By Total</th>\n",
       "      <td>8804666.0</td>\n",
       "    </tr>\n",
       "    <tr>\n",
       "      <th>By Year</th>\n",
       "      <td>8800488.0</td>\n",
       "    </tr>\n",
       "  </tbody>\n",
       "</table>\n",
       "</div>"
      ],
      "text/plain": [
       "          COVID-19 Deaths\n",
       "Group                    \n",
       "By Month        8740895.0\n",
       "By Total        8804666.0\n",
       "By Year         8800488.0"
      ]
     },
     "metadata": {},
     "output_type": "display_data"
    }
   ],
   "source": [
    "display(conditions[['Group','COVID-19 Deaths']].groupby('Group').sum())\n",
    "display(sas[['Group','COVID-19 Deaths']].groupby('Group').sum())"
   ]
  },
  {
   "cell_type": "markdown",
   "metadata": {},
   "source": [
    "In addition to the varying temporal granularity double counting, it looks like there is a slight variation in the reported number of deaths for each level of granularity. \n",
    "\n",
    "This is explained earlier as the more granular the data, the more likely to drop below the threshold where the data is censored. \n",
    "\n",
    "We will remove all the \"agregation\" rows from all the datasets, using the highest resolution and finest granularity and then look at how much of the dataset is censored. "
   ]
  },
  {
   "cell_type": "code",
   "execution_count": 238,
   "metadata": {},
   "outputs": [
    {
     "data": {
      "text/html": [
       "<div>\n",
       "<style scoped>\n",
       "    .dataframe tbody tr th:only-of-type {\n",
       "        vertical-align: middle;\n",
       "    }\n",
       "\n",
       "    .dataframe tbody tr th {\n",
       "        vertical-align: top;\n",
       "    }\n",
       "\n",
       "    .dataframe thead th {\n",
       "        text-align: right;\n",
       "    }\n",
       "</style>\n",
       "<table border=\"1\" class=\"dataframe\">\n",
       "  <thead>\n",
       "    <tr style=\"text-align: right;\">\n",
       "      <th></th>\n",
       "      <th>COVID-19 Deaths</th>\n",
       "    </tr>\n",
       "    <tr>\n",
       "      <th>State</th>\n",
       "      <th></th>\n",
       "    </tr>\n",
       "  </thead>\n",
       "  <tbody>\n",
       "    <tr>\n",
       "      <th>False</th>\n",
       "      <td>21837641.0</td>\n",
       "    </tr>\n",
       "    <tr>\n",
       "      <th>True</th>\n",
       "      <td>22127694.0</td>\n",
       "    </tr>\n",
       "  </tbody>\n",
       "</table>\n",
       "</div>"
      ],
      "text/plain": [
       "       COVID-19 Deaths\n",
       "State                 \n",
       "False       21837641.0\n",
       "True        22127694.0"
      ]
     },
     "metadata": {},
     "output_type": "display_data"
    },
    {
     "data": {
      "text/html": [
       "<div>\n",
       "<style scoped>\n",
       "    .dataframe tbody tr th:only-of-type {\n",
       "        vertical-align: middle;\n",
       "    }\n",
       "\n",
       "    .dataframe tbody tr th {\n",
       "        vertical-align: top;\n",
       "    }\n",
       "\n",
       "    .dataframe thead th {\n",
       "        text-align: right;\n",
       "    }\n",
       "</style>\n",
       "<table border=\"1\" class=\"dataframe\">\n",
       "  <thead>\n",
       "    <tr style=\"text-align: right;\">\n",
       "      <th></th>\n",
       "      <th>COVID-19 Deaths</th>\n",
       "    </tr>\n",
       "    <tr>\n",
       "      <th>State</th>\n",
       "      <th></th>\n",
       "    </tr>\n",
       "  </thead>\n",
       "  <tbody>\n",
       "    <tr>\n",
       "      <th>False</th>\n",
       "      <td>13159321.0</td>\n",
       "    </tr>\n",
       "    <tr>\n",
       "      <th>True</th>\n",
       "      <td>13186728.0</td>\n",
       "    </tr>\n",
       "  </tbody>\n",
       "</table>\n",
       "</div>"
      ],
      "text/plain": [
       "       COVID-19 Deaths\n",
       "State                 \n",
       "False       13159321.0\n",
       "True        13186728.0"
      ]
     },
     "metadata": {},
     "output_type": "display_data"
    }
   ],
   "source": [
    "display(conditions[['State','COVID-19 Deaths']].groupby(conditions['State'] == 'United States').sum(numeric_only=True))\n",
    "display(sas[['State','COVID-19 Deaths']].groupby(sas['State'] == 'United States').sum(numeric_only=True))"
   ]
  },
  {
   "cell_type": "markdown",
   "metadata": {},
   "source": [
    "It looks like there are double countings here as well"
   ]
  },
  {
   "cell_type": "code",
   "execution_count": 239,
   "metadata": {},
   "outputs": [
    {
     "data": {
      "text/html": [
       "<div>\n",
       "<style scoped>\n",
       "    .dataframe tbody tr th:only-of-type {\n",
       "        vertical-align: middle;\n",
       "    }\n",
       "\n",
       "    .dataframe tbody tr th {\n",
       "        vertical-align: top;\n",
       "    }\n",
       "\n",
       "    .dataframe thead th {\n",
       "        text-align: right;\n",
       "    }\n",
       "</style>\n",
       "<table border=\"1\" class=\"dataframe\">\n",
       "  <thead>\n",
       "    <tr style=\"text-align: right;\">\n",
       "      <th></th>\n",
       "      <th>COVID-19 Deaths</th>\n",
       "    </tr>\n",
       "    <tr>\n",
       "      <th>Sex</th>\n",
       "      <th></th>\n",
       "    </tr>\n",
       "  </thead>\n",
       "  <tbody>\n",
       "    <tr>\n",
       "      <th>All Sexes</th>\n",
       "      <td>13186446.0</td>\n",
       "    </tr>\n",
       "    <tr>\n",
       "      <th>Female</th>\n",
       "      <td>5763445.0</td>\n",
       "    </tr>\n",
       "    <tr>\n",
       "      <th>Male</th>\n",
       "      <td>7396158.0</td>\n",
       "    </tr>\n",
       "  </tbody>\n",
       "</table>\n",
       "</div>"
      ],
      "text/plain": [
       "           COVID-19 Deaths\n",
       "Sex                       \n",
       "All Sexes       13186446.0\n",
       "Female           5763445.0\n",
       "Male             7396158.0"
      ]
     },
     "metadata": {},
     "output_type": "display_data"
    }
   ],
   "source": [
    "display(sas[['Sex','COVID-19 Deaths']].groupby('Sex').sum())"
   ]
  },
  {
   "cell_type": "markdown",
   "metadata": {},
   "source": [
    "Again we're double counting "
   ]
  },
  {
   "cell_type": "markdown",
   "metadata": {},
   "source": [
    "## Granularity Homogenization"
   ]
  },
  {
   "cell_type": "markdown",
   "metadata": {},
   "source": [
    "Remove `By Year` `By Total` from `Group`"
   ]
  },
  {
   "cell_type": "code",
   "execution_count": 240,
   "metadata": {},
   "outputs": [],
   "source": [
    "conditions = conditions[conditions['Group'] == 'By Month'] \n",
    "sas = sas[sas['Group'] == 'By Month'] "
   ]
  },
  {
   "cell_type": "markdown",
   "metadata": {},
   "source": [
    "Remove `United States` from `State`"
   ]
  },
  {
   "cell_type": "code",
   "execution_count": 241,
   "metadata": {},
   "outputs": [],
   "source": [
    "conditions = conditions[conditions['State'] != 'United States'] \n",
    "sas = sas[sas['State'] != 'United States'] "
   ]
  },
  {
   "cell_type": "markdown",
   "metadata": {},
   "source": [
    "Remove `All Sexes` from `Sex` in `cdc_death_counts_by_sex_age_state`"
   ]
  },
  {
   "cell_type": "code",
   "execution_count": 242,
   "metadata": {},
   "outputs": [],
   "source": [
    "sas = sas[sas['Sex'] != 'All Sexes']"
   ]
  },
  {
   "cell_type": "markdown",
   "metadata": {},
   "source": [
    "Remove `All Ages` from `Age`"
   ]
  },
  {
   "cell_type": "code",
   "execution_count": 243,
   "metadata": {},
   "outputs": [],
   "source": [
    "conditions = conditions[conditions['Age Group'] != 'All Ages'] \n",
    "sas = sas[sas['Age Group'] != 'All Ages'] "
   ]
  },
  {
   "cell_type": "code",
   "execution_count": 244,
   "metadata": {},
   "outputs": [
    {
     "data": {
      "text/plain": [
       "3403304.0"
      ]
     },
     "metadata": {},
     "output_type": "display_data"
    },
    {
     "data": {
      "text/plain": [
       "1183925.0"
      ]
     },
     "metadata": {},
     "output_type": "display_data"
    }
   ],
   "source": [
    "display(conditions['COVID-19 Deaths'].sum())\n",
    "display(sas['COVID-19 Deaths'].sum())"
   ]
  },
  {
   "cell_type": "markdown",
   "metadata": {},
   "source": [
    "## Missing Values Analysis"
   ]
  },
  {
   "cell_type": "code",
   "execution_count": 245,
   "metadata": {},
   "outputs": [
    {
     "data": {
      "text/html": [
       "<div>\n",
       "<style scoped>\n",
       "    .dataframe tbody tr th:only-of-type {\n",
       "        vertical-align: middle;\n",
       "    }\n",
       "\n",
       "    .dataframe tbody tr th {\n",
       "        vertical-align: top;\n",
       "    }\n",
       "\n",
       "    .dataframe thead th {\n",
       "        text-align: right;\n",
       "    }\n",
       "</style>\n",
       "<table border=\"1\" class=\"dataframe\">\n",
       "  <thead>\n",
       "    <tr style=\"text-align: right;\">\n",
       "      <th></th>\n",
       "      <th>Data As Of</th>\n",
       "      <th>Start Date</th>\n",
       "      <th>End Date</th>\n",
       "      <th>Group</th>\n",
       "      <th>Year</th>\n",
       "      <th>Month</th>\n",
       "      <th>State</th>\n",
       "      <th>Sex</th>\n",
       "      <th>Age Group</th>\n",
       "      <th>COVID-19 Deaths</th>\n",
       "      <th>Total Deaths</th>\n",
       "      <th>Pneumonia Deaths</th>\n",
       "      <th>Pneumonia and COVID-19 Deaths</th>\n",
       "      <th>Influenza Deaths</th>\n",
       "      <th>Pneumonia, Influenza, or COVID-19 Deaths</th>\n",
       "      <th>Footnote</th>\n",
       "    </tr>\n",
       "  </thead>\n",
       "  <tbody>\n",
       "    <tr>\n",
       "      <th>12422</th>\n",
       "      <td>2022-03-23</td>\n",
       "      <td>2020-01-01</td>\n",
       "      <td>2020-01-31</td>\n",
       "      <td>By Month</td>\n",
       "      <td>2020.0</td>\n",
       "      <td>1.0</td>\n",
       "      <td>Alabama</td>\n",
       "      <td>Male</td>\n",
       "      <td>50-64 years</td>\n",
       "      <td>NaN</td>\n",
       "      <td>521.0</td>\n",
       "      <td>28.0</td>\n",
       "      <td>0.0</td>\n",
       "      <td>NaN</td>\n",
       "      <td>36.0</td>\n",
       "      <td>One or more data cells have counts between 1-9...</td>\n",
       "    </tr>\n",
       "    <tr>\n",
       "      <th>12423</th>\n",
       "      <td>2022-03-23</td>\n",
       "      <td>2020-01-01</td>\n",
       "      <td>2020-01-31</td>\n",
       "      <td>By Month</td>\n",
       "      <td>2020.0</td>\n",
       "      <td>1.0</td>\n",
       "      <td>Alabama</td>\n",
       "      <td>Male</td>\n",
       "      <td>55-64 years</td>\n",
       "      <td>NaN</td>\n",
       "      <td>425.0</td>\n",
       "      <td>26.0</td>\n",
       "      <td>0.0</td>\n",
       "      <td>NaN</td>\n",
       "      <td>33.0</td>\n",
       "      <td>One or more data cells have counts between 1-9...</td>\n",
       "    </tr>\n",
       "    <tr>\n",
       "      <th>12477</th>\n",
       "      <td>2022-03-23</td>\n",
       "      <td>2020-02-01</td>\n",
       "      <td>2020-02-29</td>\n",
       "      <td>By Month</td>\n",
       "      <td>2020.0</td>\n",
       "      <td>2.0</td>\n",
       "      <td>Alabama</td>\n",
       "      <td>Male</td>\n",
       "      <td>85 years and over</td>\n",
       "      <td>NaN</td>\n",
       "      <td>414.0</td>\n",
       "      <td>21.0</td>\n",
       "      <td>0.0</td>\n",
       "      <td>0.0</td>\n",
       "      <td>22.0</td>\n",
       "      <td>One or more data cells have counts between 1-9...</td>\n",
       "    </tr>\n",
       "  </tbody>\n",
       "</table>\n",
       "</div>"
      ],
      "text/plain": [
       "      Data As Of Start Date   End Date     Group    Year  Month    State  \\\n",
       "12422 2022-03-23 2020-01-01 2020-01-31  By Month  2020.0    1.0  Alabama   \n",
       "12423 2022-03-23 2020-01-01 2020-01-31  By Month  2020.0    1.0  Alabama   \n",
       "12477 2022-03-23 2020-02-01 2020-02-29  By Month  2020.0    2.0  Alabama   \n",
       "\n",
       "        Sex          Age Group  COVID-19 Deaths  Total Deaths  \\\n",
       "12422  Male        50-64 years              NaN         521.0   \n",
       "12423  Male        55-64 years              NaN         425.0   \n",
       "12477  Male  85 years and over              NaN         414.0   \n",
       "\n",
       "       Pneumonia Deaths  Pneumonia and COVID-19 Deaths  Influenza Deaths  \\\n",
       "12422              28.0                            0.0               NaN   \n",
       "12423              26.0                            0.0               NaN   \n",
       "12477              21.0                            0.0               0.0   \n",
       "\n",
       "       Pneumonia, Influenza, or COVID-19 Deaths  \\\n",
       "12422                                      36.0   \n",
       "12423                                      33.0   \n",
       "12477                                      22.0   \n",
       "\n",
       "                                                Footnote  \n",
       "12422  One or more data cells have counts between 1-9...  \n",
       "12423  One or more data cells have counts between 1-9...  \n",
       "12477  One or more data cells have counts between 1-9...  "
      ]
     },
     "execution_count": 245,
     "metadata": {},
     "output_type": "execute_result"
    }
   ],
   "source": [
    "sas[sas[\"COVID-19 Deaths\"].isna()].head(3)"
   ]
  },
  {
   "cell_type": "code",
   "execution_count": 246,
   "metadata": {},
   "outputs": [
    {
     "data": {
      "text/html": [
       "<div>\n",
       "<style scoped>\n",
       "    .dataframe tbody tr th:only-of-type {\n",
       "        vertical-align: middle;\n",
       "    }\n",
       "\n",
       "    .dataframe tbody tr th {\n",
       "        vertical-align: top;\n",
       "    }\n",
       "\n",
       "    .dataframe thead th {\n",
       "        text-align: right;\n",
       "    }\n",
       "</style>\n",
       "<table border=\"1\" class=\"dataframe\">\n",
       "  <thead>\n",
       "    <tr style=\"text-align: right;\">\n",
       "      <th></th>\n",
       "      <th>Data As Of</th>\n",
       "      <th>Start Date</th>\n",
       "      <th>End Date</th>\n",
       "      <th>Group</th>\n",
       "      <th>Year</th>\n",
       "      <th>Month</th>\n",
       "      <th>State</th>\n",
       "      <th>Condition Group</th>\n",
       "      <th>Condition</th>\n",
       "      <th>ICD10_codes</th>\n",
       "      <th>Age Group</th>\n",
       "      <th>COVID-19 Deaths</th>\n",
       "      <th>Number of Mentions</th>\n",
       "      <th>Flag</th>\n",
       "    </tr>\n",
       "  </thead>\n",
       "  <tbody>\n",
       "    <tr>\n",
       "      <th>55898</th>\n",
       "      <td>2022-03-20</td>\n",
       "      <td>2020-09-01</td>\n",
       "      <td>2020-09-30</td>\n",
       "      <td>By Month</td>\n",
       "      <td>2020.0</td>\n",
       "      <td>9.0</td>\n",
       "      <td>Alabama</td>\n",
       "      <td>Respiratory diseases</td>\n",
       "      <td>Influenza and pneumonia</td>\n",
       "      <td>J09-J18</td>\n",
       "      <td>0-24</td>\n",
       "      <td>NaN</td>\n",
       "      <td>NaN</td>\n",
       "      <td>One or more data cells have counts between 1-9...</td>\n",
       "    </tr>\n",
       "    <tr>\n",
       "      <th>55903</th>\n",
       "      <td>2022-03-20</td>\n",
       "      <td>2021-02-01</td>\n",
       "      <td>2021-02-28</td>\n",
       "      <td>By Month</td>\n",
       "      <td>2021.0</td>\n",
       "      <td>2.0</td>\n",
       "      <td>Alabama</td>\n",
       "      <td>Respiratory diseases</td>\n",
       "      <td>Influenza and pneumonia</td>\n",
       "      <td>J09-J18</td>\n",
       "      <td>0-24</td>\n",
       "      <td>NaN</td>\n",
       "      <td>NaN</td>\n",
       "      <td>One or more data cells have counts between 1-9...</td>\n",
       "    </tr>\n",
       "    <tr>\n",
       "      <th>55905</th>\n",
       "      <td>2022-03-20</td>\n",
       "      <td>2021-04-01</td>\n",
       "      <td>2021-04-30</td>\n",
       "      <td>By Month</td>\n",
       "      <td>2021.0</td>\n",
       "      <td>4.0</td>\n",
       "      <td>Alabama</td>\n",
       "      <td>Respiratory diseases</td>\n",
       "      <td>Influenza and pneumonia</td>\n",
       "      <td>J09-J18</td>\n",
       "      <td>0-24</td>\n",
       "      <td>NaN</td>\n",
       "      <td>NaN</td>\n",
       "      <td>One or more data cells have counts between 1-9...</td>\n",
       "    </tr>\n",
       "  </tbody>\n",
       "</table>\n",
       "</div>"
      ],
      "text/plain": [
       "      Data As Of Start Date   End Date     Group    Year  Month    State  \\\n",
       "55898 2022-03-20 2020-09-01 2020-09-30  By Month  2020.0    9.0  Alabama   \n",
       "55903 2022-03-20 2021-02-01 2021-02-28  By Month  2021.0    2.0  Alabama   \n",
       "55905 2022-03-20 2021-04-01 2021-04-30  By Month  2021.0    4.0  Alabama   \n",
       "\n",
       "            Condition Group                Condition ICD10_codes Age Group  \\\n",
       "55898  Respiratory diseases  Influenza and pneumonia     J09-J18      0-24   \n",
       "55903  Respiratory diseases  Influenza and pneumonia     J09-J18      0-24   \n",
       "55905  Respiratory diseases  Influenza and pneumonia     J09-J18      0-24   \n",
       "\n",
       "       COVID-19 Deaths  Number of Mentions  \\\n",
       "55898              NaN                 NaN   \n",
       "55903              NaN                 NaN   \n",
       "55905              NaN                 NaN   \n",
       "\n",
       "                                                    Flag  \n",
       "55898  One or more data cells have counts between 1-9...  \n",
       "55903  One or more data cells have counts between 1-9...  \n",
       "55905  One or more data cells have counts between 1-9...  "
      ]
     },
     "execution_count": 246,
     "metadata": {},
     "output_type": "execute_result"
    }
   ],
   "source": [
    "conditions[conditions[\"COVID-19 Deaths\"].isna()].head(3)"
   ]
  },
  {
   "cell_type": "code",
   "execution_count": 247,
   "metadata": {},
   "outputs": [
    {
     "data": {
      "text/plain": [
       "Flag\n",
       "One or more data cells have counts between 1-9 and have been suppressed in accordance with NCHS confidentiality standards.    90586\n",
       "Name: count, dtype: int64"
      ]
     },
     "metadata": {},
     "output_type": "display_data"
    },
    {
     "data": {
      "text/plain": [
       "Series([], Name: count, dtype: int64)"
      ]
     },
     "metadata": {},
     "output_type": "display_data"
    }
   ],
   "source": [
    "display(conditions[conditions[\"COVID-19 Deaths\"].isna()]['Flag'].value_counts())\n",
    "display(conditions[conditions[\"COVID-19 Deaths\"].notna()]['Flag'].value_counts())"
   ]
  },
  {
   "cell_type": "markdown",
   "metadata": {},
   "source": [
    "It appears that the conditions page now only has `Flag` set when no deaths are reported, this makes sense"
   ]
  },
  {
   "cell_type": "code",
   "execution_count": 250,
   "metadata": {},
   "outputs": [
    {
     "data": {
      "text/plain": [
       "Footnote\n",
       "One or more data cells have counts between 1-9 and have been suppressed in accordance with NCHS confidentiality standards.    12971\n",
       "Name: count, dtype: int64"
      ]
     },
     "metadata": {},
     "output_type": "display_data"
    },
    {
     "data": {
      "text/plain": [
       "Footnote\n",
       "One or more data cells have counts between 1-9 and have been suppressed in accordance with NCHS confidentiality standards.    18773\n",
       "Name: count, dtype: int64"
      ]
     },
     "metadata": {},
     "output_type": "display_data"
    },
    {
     "data": {
      "text/plain": [
       "Group\n",
       "By Month    18773\n",
       "Name: count, dtype: int64"
      ]
     },
     "metadata": {},
     "output_type": "display_data"
    },
    {
     "data": {
      "text/plain": [
       "Age Group\n",
       "5-14 years           1967\n",
       "1-4 years            1896\n",
       "Under 1 year         1512\n",
       "0-17 years           1394\n",
       "15-24 years          1204\n",
       "85 years and over    1141\n",
       "75-84 years          1072\n",
       "18-29 years          1012\n",
       "50-64 years          1009\n",
       "65-74 years          1005\n",
       "55-64 years          1000\n",
       "25-34 years           948\n",
       "45-54 years           924\n",
       "30-39 years           899\n",
       "40-49 years           897\n",
       "35-44 years           893\n",
       "Name: count, dtype: int64"
      ]
     },
     "metadata": {},
     "output_type": "display_data"
    }
   ],
   "source": [
    "\n",
    "display(sas[sas[\"COVID-19 Deaths\"].isna()]['Footnote'].value_counts())\n",
    "display(sas[sas[\"COVID-19 Deaths\"].notna()]['Footnote'].value_counts())\n",
    "\n",
    "display(sas[sas[\"COVID-19 Deaths\"].notna() & sas['Footnote'].notna()]['Group'].value_counts())\n",
    "display(sas[sas[\"COVID-19 Deaths\"].notna() & sas['Footnote'].notna()]['Age Group'].value_counts())"
   ]
  },
  {
   "cell_type": "markdown",
   "metadata": {},
   "source": [
    "It looks like there are some rows that have covid deaths and the footnote in the SAS dataset, but it is relatively evently distributed and not a significant portion of the data"
   ]
  },
  {
   "cell_type": "markdown",
   "metadata": {},
   "source": [
    "## Resolving Overlapping Age Brackets"
   ]
  },
  {
   "cell_type": "markdown",
   "metadata": {},
   "source": [
    "We are going to make lists of the two underlying sets of age brackets"
   ]
  },
  {
   "cell_type": "code",
   "execution_count": 249,
   "metadata": {},
   "outputs": [],
   "source": [
    "# Seperate to groups because of overlapping age gorups\n",
    "age_group_brackets_1 = [ \n",
    "    \"0-17 years\", \n",
    "    \"18-29 years\", \n",
    "    \"30-39 years\", \n",
    "    \"40-49 years\", \n",
    "    \"50-64 years\", \n",
    "    \"65-74 years\", \n",
    "    \"75-84 years\", \n",
    "    \"85 years and over\"\n",
    "    ]\n",
    "\n",
    "age_group_brackets_2 = [ \n",
    "    \"Under 1 year\", \n",
    "    \"1-4 years\", \n",
    "    \"5-14 years\", \n",
    "    \"15-24 years\", \n",
    "    \"25-34 years\", \n",
    "    \"35-44 years\", \n",
    "    \"45-54 years\", \n",
    "    \"55-64 years\", \n",
    "    \"65-74 years\", \n",
    "    \"75-84 years\", \n",
    "    \"85 years and over\"\n",
    "    ]"
   ]
  },
  {
   "cell_type": "markdown",
   "metadata": {},
   "source": [
    "Now we'll make two separate datasets"
   ]
  },
  {
   "cell_type": "code",
   "execution_count": 34,
   "metadata": {},
   "outputs": [],
   "source": [
    "sas_1 = sas[sas['Age Group'].isin(age_group_brackets_1)]\n",
    "sas_2 = sas[sas['Age Group'].isin(age_group_brackets_2)]"
   ]
  },
  {
   "cell_type": "markdown",
   "metadata": {},
   "source": [
    "Checking that they are similar"
   ]
  },
  {
   "cell_type": "code",
   "execution_count": 35,
   "metadata": {},
   "outputs": [
    {
     "data": {
      "text/plain": [
       "953470.0"
      ]
     },
     "metadata": {},
     "output_type": "display_data"
    },
    {
     "data": {
      "text/plain": [
       "950710.0"
      ]
     },
     "metadata": {},
     "output_type": "display_data"
    },
    {
     "name": "stdout",
     "output_type": "stream",
     "text": [
      "The percentage difference between the 2 groups is 0.14494428047768593.\n"
     ]
    }
   ],
   "source": [
    "total_deaths_1 = sas_1['COVID-19 Deaths'].sum()\n",
    "total_deaths_2 = sas_2['COVID-19 Deaths'].sum()\n",
    "\n",
    "display(total_deaths_1)\n",
    "display(total_deaths_2)\n",
    "percent_diff = (total_deaths_1 - total_deaths_2)/(total_deaths_1 + total_deaths_2)*100\n",
    "print(f\"The percentage difference between the 2 groups is {percent_diff}.\")"
   ]
  },
  {
   "cell_type": "code",
   "execution_count": 36,
   "metadata": {},
   "outputs": [
    {
     "data": {
      "text/html": [
       "<div>\n",
       "<style scoped>\n",
       "    .dataframe tbody tr th:only-of-type {\n",
       "        vertical-align: middle;\n",
       "    }\n",
       "\n",
       "    .dataframe tbody tr th {\n",
       "        vertical-align: top;\n",
       "    }\n",
       "\n",
       "    .dataframe thead th {\n",
       "        text-align: right;\n",
       "    }\n",
       "</style>\n",
       "<table border=\"1\" class=\"dataframe\">\n",
       "  <thead>\n",
       "    <tr style=\"text-align: right;\">\n",
       "      <th></th>\n",
       "      <th>Start Date</th>\n",
       "      <th>Percent Difference Between Age Bracket Methods</th>\n",
       "    </tr>\n",
       "  </thead>\n",
       "  <tbody>\n",
       "    <tr>\n",
       "      <th>0</th>\n",
       "      <td>2020-01-01</td>\n",
       "      <td>NaN</td>\n",
       "    </tr>\n",
       "    <tr>\n",
       "      <th>1</th>\n",
       "      <td>2020-02-01</td>\n",
       "      <td>NaN</td>\n",
       "    </tr>\n",
       "    <tr>\n",
       "      <th>2</th>\n",
       "      <td>2020-03-01</td>\n",
       "      <td>1.200000</td>\n",
       "    </tr>\n",
       "    <tr>\n",
       "      <th>3</th>\n",
       "      <td>2020-04-01</td>\n",
       "      <td>0.168465</td>\n",
       "    </tr>\n",
       "    <tr>\n",
       "      <th>4</th>\n",
       "      <td>2020-05-01</td>\n",
       "      <td>0.291241</td>\n",
       "    </tr>\n",
       "    <tr>\n",
       "      <th>5</th>\n",
       "      <td>2020-06-01</td>\n",
       "      <td>0.941300</td>\n",
       "    </tr>\n",
       "    <tr>\n",
       "      <th>6</th>\n",
       "      <td>2020-07-01</td>\n",
       "      <td>0.337369</td>\n",
       "    </tr>\n",
       "    <tr>\n",
       "      <th>7</th>\n",
       "      <td>2020-08-01</td>\n",
       "      <td>0.660416</td>\n",
       "    </tr>\n",
       "    <tr>\n",
       "      <th>8</th>\n",
       "      <td>2020-09-01</td>\n",
       "      <td>0.634628</td>\n",
       "    </tr>\n",
       "    <tr>\n",
       "      <th>9</th>\n",
       "      <td>2020-10-01</td>\n",
       "      <td>0.334531</td>\n",
       "    </tr>\n",
       "    <tr>\n",
       "      <th>10</th>\n",
       "      <td>2020-11-01</td>\n",
       "      <td>0.055078</td>\n",
       "    </tr>\n",
       "    <tr>\n",
       "      <th>11</th>\n",
       "      <td>2020-12-01</td>\n",
       "      <td>0.071572</td>\n",
       "    </tr>\n",
       "    <tr>\n",
       "      <th>12</th>\n",
       "      <td>2021-01-01</td>\n",
       "      <td>0.096229</td>\n",
       "    </tr>\n",
       "    <tr>\n",
       "      <th>13</th>\n",
       "      <td>2021-02-01</td>\n",
       "      <td>0.207265</td>\n",
       "    </tr>\n",
       "    <tr>\n",
       "      <th>14</th>\n",
       "      <td>2021-03-01</td>\n",
       "      <td>0.273862</td>\n",
       "    </tr>\n",
       "    <tr>\n",
       "      <th>15</th>\n",
       "      <td>2021-04-01</td>\n",
       "      <td>0.789310</td>\n",
       "    </tr>\n",
       "    <tr>\n",
       "      <th>16</th>\n",
       "      <td>2021-05-01</td>\n",
       "      <td>1.130066</td>\n",
       "    </tr>\n",
       "    <tr>\n",
       "      <th>17</th>\n",
       "      <td>2021-06-01</td>\n",
       "      <td>2.926471</td>\n",
       "    </tr>\n",
       "    <tr>\n",
       "      <th>18</th>\n",
       "      <td>2021-07-01</td>\n",
       "      <td>1.399860</td>\n",
       "    </tr>\n",
       "    <tr>\n",
       "      <th>19</th>\n",
       "      <td>2021-08-01</td>\n",
       "      <td>0.141847</td>\n",
       "    </tr>\n",
       "    <tr>\n",
       "      <th>20</th>\n",
       "      <td>2021-09-01</td>\n",
       "      <td>0.186844</td>\n",
       "    </tr>\n",
       "    <tr>\n",
       "      <th>21</th>\n",
       "      <td>2021-10-01</td>\n",
       "      <td>0.108683</td>\n",
       "    </tr>\n",
       "    <tr>\n",
       "      <th>22</th>\n",
       "      <td>2021-11-01</td>\n",
       "      <td>0.645825</td>\n",
       "    </tr>\n",
       "    <tr>\n",
       "      <th>23</th>\n",
       "      <td>2021-12-01</td>\n",
       "      <td>0.195681</td>\n",
       "    </tr>\n",
       "    <tr>\n",
       "      <th>24</th>\n",
       "      <td>2022-01-01</td>\n",
       "      <td>0.069800</td>\n",
       "    </tr>\n",
       "    <tr>\n",
       "      <th>25</th>\n",
       "      <td>2022-02-01</td>\n",
       "      <td>0.307146</td>\n",
       "    </tr>\n",
       "    <tr>\n",
       "      <th>26</th>\n",
       "      <td>2022-03-01</td>\n",
       "      <td>2.604630</td>\n",
       "    </tr>\n",
       "  </tbody>\n",
       "</table>\n",
       "</div>"
      ],
      "text/plain": [
       "   Start Date  Percent Difference Between Age Bracket Methods\n",
       "0  2020-01-01                                             NaN\n",
       "1  2020-02-01                                             NaN\n",
       "2  2020-03-01                                        1.200000\n",
       "3  2020-04-01                                        0.168465\n",
       "4  2020-05-01                                        0.291241\n",
       "5  2020-06-01                                        0.941300\n",
       "6  2020-07-01                                        0.337369\n",
       "7  2020-08-01                                        0.660416\n",
       "8  2020-09-01                                        0.634628\n",
       "9  2020-10-01                                        0.334531\n",
       "10 2020-11-01                                        0.055078\n",
       "11 2020-12-01                                        0.071572\n",
       "12 2021-01-01                                        0.096229\n",
       "13 2021-02-01                                        0.207265\n",
       "14 2021-03-01                                        0.273862\n",
       "15 2021-04-01                                        0.789310\n",
       "16 2021-05-01                                        1.130066\n",
       "17 2021-06-01                                        2.926471\n",
       "18 2021-07-01                                        1.399860\n",
       "19 2021-08-01                                        0.141847\n",
       "20 2021-09-01                                        0.186844\n",
       "21 2021-10-01                                        0.108683\n",
       "22 2021-11-01                                        0.645825\n",
       "23 2021-12-01                                        0.195681\n",
       "24 2022-01-01                                        0.069800\n",
       "25 2022-02-01                                        0.307146\n",
       "26 2022-03-01                                        2.604630"
      ]
     },
     "metadata": {},
     "output_type": "display_data"
    }
   ],
   "source": [
    "similarity_check = ((sas_1[['Start Date','COVID-19 Deaths']].groupby('Start Date').sum() \n",
    "                    - sas_2[['Start Date','COVID-19 Deaths']].groupby('Start Date').sum())\n",
    "                    / sas_1[['Start Date','COVID-19 Deaths']].groupby('Start Date').sum()\n",
    "                    * 100\n",
    "                    )\n",
    "display(similarity_check.reset_index().rename(columns={'COVID-19 Deaths':'Percent Difference Between Age Bracket Methods'}))"
   ]
  },
  {
   "cell_type": "code",
   "execution_count": 37,
   "metadata": {},
   "outputs": [
    {
     "data": {
      "text/html": [
       "<div>\n",
       "<style scoped>\n",
       "    .dataframe tbody tr th:only-of-type {\n",
       "        vertical-align: middle;\n",
       "    }\n",
       "\n",
       "    .dataframe tbody tr th {\n",
       "        vertical-align: top;\n",
       "    }\n",
       "\n",
       "    .dataframe thead th {\n",
       "        text-align: right;\n",
       "    }\n",
       "</style>\n",
       "<table border=\"1\" class=\"dataframe\">\n",
       "  <thead>\n",
       "    <tr style=\"text-align: right;\">\n",
       "      <th></th>\n",
       "      <th>Start Date</th>\n",
       "      <th>Percent Difference Between Age Bracket Methods</th>\n",
       "    </tr>\n",
       "  </thead>\n",
       "  <tbody>\n",
       "    <tr>\n",
       "      <th>0</th>\n",
       "      <td>2020-01-01</td>\n",
       "      <td>NaN</td>\n",
       "    </tr>\n",
       "    <tr>\n",
       "      <th>1</th>\n",
       "      <td>2020-02-01</td>\n",
       "      <td>NaN</td>\n",
       "    </tr>\n",
       "    <tr>\n",
       "      <th>2</th>\n",
       "      <td>2020-03-01</td>\n",
       "      <td>-193.008000</td>\n",
       "    </tr>\n",
       "    <tr>\n",
       "      <th>3</th>\n",
       "      <td>2020-04-01</td>\n",
       "      <td>-233.788755</td>\n",
       "    </tr>\n",
       "    <tr>\n",
       "      <th>4</th>\n",
       "      <td>2020-05-01</td>\n",
       "      <td>-241.214664</td>\n",
       "    </tr>\n",
       "    <tr>\n",
       "      <th>5</th>\n",
       "      <td>2020-06-01</td>\n",
       "      <td>-231.092142</td>\n",
       "    </tr>\n",
       "    <tr>\n",
       "      <th>6</th>\n",
       "      <td>2020-07-01</td>\n",
       "      <td>-256.628299</td>\n",
       "    </tr>\n",
       "    <tr>\n",
       "      <th>7</th>\n",
       "      <td>2020-08-01</td>\n",
       "      <td>-257.883931</td>\n",
       "    </tr>\n",
       "    <tr>\n",
       "      <th>8</th>\n",
       "      <td>2020-09-01</td>\n",
       "      <td>-238.782816</td>\n",
       "    </tr>\n",
       "    <tr>\n",
       "      <th>9</th>\n",
       "      <td>2020-10-01</td>\n",
       "      <td>-244.566968</td>\n",
       "    </tr>\n",
       "    <tr>\n",
       "      <th>10</th>\n",
       "      <td>2020-11-01</td>\n",
       "      <td>-261.519761</td>\n",
       "    </tr>\n",
       "    <tr>\n",
       "      <th>11</th>\n",
       "      <td>2020-12-01</td>\n",
       "      <td>-269.052074</td>\n",
       "    </tr>\n",
       "    <tr>\n",
       "      <th>12</th>\n",
       "      <td>2021-01-01</td>\n",
       "      <td>-275.612150</td>\n",
       "    </tr>\n",
       "    <tr>\n",
       "      <th>13</th>\n",
       "      <td>2021-02-01</td>\n",
       "      <td>-273.909767</td>\n",
       "    </tr>\n",
       "    <tr>\n",
       "      <th>14</th>\n",
       "      <td>2021-03-01</td>\n",
       "      <td>-254.678100</td>\n",
       "    </tr>\n",
       "    <tr>\n",
       "      <th>15</th>\n",
       "      <td>2021-04-01</td>\n",
       "      <td>-237.994024</td>\n",
       "    </tr>\n",
       "    <tr>\n",
       "      <th>16</th>\n",
       "      <td>2021-05-01</td>\n",
       "      <td>-233.412510</td>\n",
       "    </tr>\n",
       "    <tr>\n",
       "      <th>17</th>\n",
       "      <td>2021-06-01</td>\n",
       "      <td>-199.102941</td>\n",
       "    </tr>\n",
       "    <tr>\n",
       "      <th>18</th>\n",
       "      <td>2021-07-01</td>\n",
       "      <td>-217.208279</td>\n",
       "    </tr>\n",
       "    <tr>\n",
       "      <th>19</th>\n",
       "      <td>2021-08-01</td>\n",
       "      <td>-254.796721</td>\n",
       "    </tr>\n",
       "    <tr>\n",
       "      <th>20</th>\n",
       "      <td>2021-09-01</td>\n",
       "      <td>-264.826969</td>\n",
       "    </tr>\n",
       "    <tr>\n",
       "      <th>21</th>\n",
       "      <td>2021-10-01</td>\n",
       "      <td>-263.584108</td>\n",
       "    </tr>\n",
       "    <tr>\n",
       "      <th>22</th>\n",
       "      <td>2021-11-01</td>\n",
       "      <td>-253.458857</td>\n",
       "    </tr>\n",
       "    <tr>\n",
       "      <th>23</th>\n",
       "      <td>2021-12-01</td>\n",
       "      <td>-257.700972</td>\n",
       "    </tr>\n",
       "    <tr>\n",
       "      <th>24</th>\n",
       "      <td>2022-01-01</td>\n",
       "      <td>-271.365298</td>\n",
       "    </tr>\n",
       "    <tr>\n",
       "      <th>25</th>\n",
       "      <td>2022-02-01</td>\n",
       "      <td>-258.782454</td>\n",
       "    </tr>\n",
       "    <tr>\n",
       "      <th>26</th>\n",
       "      <td>2022-03-01</td>\n",
       "      <td>-44.612645</td>\n",
       "    </tr>\n",
       "  </tbody>\n",
       "</table>\n",
       "</div>"
      ],
      "text/plain": [
       "   Start Date  Percent Difference Between Age Bracket Methods\n",
       "0  2020-01-01                                             NaN\n",
       "1  2020-02-01                                             NaN\n",
       "2  2020-03-01                                     -193.008000\n",
       "3  2020-04-01                                     -233.788755\n",
       "4  2020-05-01                                     -241.214664\n",
       "5  2020-06-01                                     -231.092142\n",
       "6  2020-07-01                                     -256.628299\n",
       "7  2020-08-01                                     -257.883931\n",
       "8  2020-09-01                                     -238.782816\n",
       "9  2020-10-01                                     -244.566968\n",
       "10 2020-11-01                                     -261.519761\n",
       "11 2020-12-01                                     -269.052074\n",
       "12 2021-01-01                                     -275.612150\n",
       "13 2021-02-01                                     -273.909767\n",
       "14 2021-03-01                                     -254.678100\n",
       "15 2021-04-01                                     -237.994024\n",
       "16 2021-05-01                                     -233.412510\n",
       "17 2021-06-01                                     -199.102941\n",
       "18 2021-07-01                                     -217.208279\n",
       "19 2021-08-01                                     -254.796721\n",
       "20 2021-09-01                                     -264.826969\n",
       "21 2021-10-01                                     -263.584108\n",
       "22 2021-11-01                                     -253.458857\n",
       "23 2021-12-01                                     -257.700972\n",
       "24 2022-01-01                                     -271.365298\n",
       "25 2022-02-01                                     -258.782454\n",
       "26 2022-03-01                                      -44.612645"
      ]
     },
     "metadata": {},
     "output_type": "display_data"
    }
   ],
   "source": [
    "similarity_check = ((sas_1[['Start Date','COVID-19 Deaths']].groupby('Start Date').sum() \n",
    "                    - conditions[['Start Date','COVID-19 Deaths']].groupby('Start Date').sum())\n",
    "                    / sas_1[['Start Date','COVID-19 Deaths']].groupby('Start Date').sum()\n",
    "                    * 100\n",
    "                    )\n",
    "display(similarity_check.reset_index().rename(columns={'COVID-19 Deaths':'Percent Difference Between Age Bracket Methods'}))"
   ]
  },
  {
   "cell_type": "markdown",
   "metadata": {},
   "source": [
    "Investigating the deltas, we see that these are substantially the same dataset, with a very small but consistent bias of more deaths with the first bracketing scheme"
   ]
  },
  {
   "cell_type": "markdown",
   "metadata": {},
   "source": [
    "## Question 1. \n",
    "### How does monthly covid-19 and other disease deaths changes over time?"
   ]
  },
  {
   "cell_type": "code",
   "execution_count": 255,
   "metadata": {},
   "outputs": [
    {
     "data": {
      "image/png": "[encoded data removed]",
      "text/plain": [
       "<Figure size 640x480 with 1 Axes>"
      ]
     },
     "metadata": {},
     "output_type": "display_data"
    }
   ],
   "source": [
    "q2_df = sas_1[['Start Date','COVID-19 Deaths','Pneumonia Deaths','Influenza Deaths']].groupby('Start Date').sum().reset_index()\n",
    "# Custom ticks for non-overlapping axis tick label\n",
    "sns.lineplot(data= q2_df, \n",
    "             x ='Start Date',  \n",
    "             y='COVID-19 Deaths', \n",
    "             label = \"COVID-19\")\n",
    "sns.lineplot(data= q2_df, \n",
    "             x ='Start Date',  \n",
    "             y='Influenza Deaths', \n",
    "             label = \"Influenza\")\n",
    "sns.lineplot(data= q2_df, \n",
    "             x ='Start Date',  \n",
    "             y='Pneumonia Deaths', \n",
    "             label = \"Pneumonia\")\n",
    "\n",
    "\n",
    "plt.xticks(rotation=45)\n",
    "plt.title('Deaths by Disease per Month')\n",
    "plt.xlabel('Date')\n",
    "plt.ylabel('Number of Deaths per Month')\n",
    "\n",
    "plt.legend()\n",
    "plt.tight_layout()\n",
    "plt.show()"
   ]
  },
  {
   "cell_type": "markdown",
   "metadata": {},
   "source": [
    "As observed in the graph, the number of COVID-19 deaths by month went through \"periods\" and peaks. The significant peak of COVID-19 deaths around early 2020 likely represents the initial global wave of the pandemic, where many regions were ill-prepared to handle the sudden surge in cases. The decrease in deaths during mid-2020 might reflect the period where lockdowns and strict measures were in place in many countries. The resurgence in late 2020 and early 2021 could be linked to the emergence of new variants, relaxed restrictions during holidays, or other socio-behavioral factors.This is likely heavily influenced by quarantine policies as well as the surface of new variants. Another important thing we can observe from the graph is that the number of deaths by pneumonia is closely related and has a positive relationship with the number of deaths by COVID-19. "
   ]
  },
  {
   "cell_type": "markdown",
   "metadata": {},
   "source": [
    "## Question 2\n",
    "### Does the percentage of COVID-19 Deaths By Age Group Vary Over Time"
   ]
  },
  {
   "cell_type": "code",
   "execution_count": 41,
   "metadata": {},
   "outputs": [],
   "source": [
    "q3_df = pd.pivot_table(data=sas_1, index='Start Date', columns='Age Group', values='COVID-19 Deaths', aggfunc='sum')\n",
    "q3_df['total'] =  sas_1[['Start Date','COVID-19 Deaths']].groupby('Start Date').sum()\n",
    "q3_df = q3_df.divide(q3_df['total'], axis='rows').drop(columns=['total'])"
   ]
  },
  {
   "cell_type": "code",
   "execution_count": 42,
   "metadata": {},
   "outputs": [
    {
     "data": {
      "image/png": "[encoded data removed]",
      "text/plain": [
       "<Figure size 1000x800 with 1 Axes>"
      ]
     },
     "metadata": {},
     "output_type": "display_data"
    }
   ],
   "source": [
    "# Plot the graph using sns\n",
    "plt.figure(figsize=(10,8))\n",
    "sns.lineplot(data=q3_df)\n",
    "plt.title(\"COVID-19 Death Percentages by Age Group over Time\")\n",
    "plt.ylabel(\"Percentage of Death by Age Group\")\n",
    "plt.xlabel(\"Date\")\n",
    "plt.legend()\n",
    "plt.xticks(rotation=45)\n",
    "plt.title(\"Percentage Distribution of COVID-19 Deaths by Age Group Over Time\")\n",
    "plt.tight_layout()\n",
    "plt.show()"
   ]
  },
  {
   "cell_type": "markdown",
   "metadata": {},
   "source": [
    "The graph shows that age groups older than 50 years have consistently higher percentages of COVID-19 related deaths compared to younger age groups. This aligns with general understanding and research that suggests older individuals are more susceptible to severe outcomes from COVID-19 due to age-related decline in immune function. Notably, the percentage of deaths for the age group \"85 years and over\" experienced a significant spike around 2020.01 to 2020.05. A potential explanation could be that during the early stages of the pandemic, many countries and regions were not adequately prepared, leading to outbreaks in vulnerable settings like nursing homes and long-term care facilities where a significant portion of the elderly population resides. Such outbreaks could disproportionately affect the eldest age group. While all older age groups have higher death percentages, there's a distinction between the 50-64 years group and the 65 and above groups. The latter groups (65 and above) seem to experience more pronounced peaks and troughs. This could be influenced by various factors, such as vaccine distribution (with older age groups being prioritized in many regions) and effectiveness of vaccines in elderly populations. While the death percentages for younger age groups are significantly lower, there are still noticeable trends, such as small spikes and fluctuations. This could be influenced by new variants, social behaviors, and vaccination rates among younger populations."
   ]
  },
  {
   "cell_type": "markdown",
   "metadata": {},
   "source": [
    "## Question 4 \n",
    "### COVID-19 Risk vs Sex"
   ]
  },
  {
   "cell_type": "code",
   "execution_count": 276,
   "metadata": {},
   "outputs": [],
   "source": [
    "q4_df = sas[['Start Date','COVID-19 Deaths','Sex']].pivot_table( values='COVID-19 Deaths' ,columns='Sex', index='Start Date', aggfunc=sum)\n",
    "q4_df['total'] = q4_df['Male'] + q4_df['Female']\n",
    "q4_df['% Male'] = q4_df['Male'] / q4_df['total']\n",
    "q4_df['% Female'] = q4_df['Female'] / q4_df['total']\n",
    "q4_df.reset_index(inplace=True)"
   ]
  },
  {
   "cell_type": "code",
   "execution_count": 277,
   "metadata": {},
   "outputs": [
    {
     "data": {
      "image/png": "[encoded data removed]",
      "text/plain": [
       "<Figure size 640x480 with 1 Axes>"
      ]
     },
     "metadata": {},
     "output_type": "display_data"
    }
   ],
   "source": [
    "plt.plot(q4_df['Start Date'], q4_df['% Male'])\n",
    "plt.plot(q4_df['Start Date'], q4_df[\"% Female\"])\n",
    "plt.axhline(.5, lw=0.5, c='black')\n",
    "plt.legend(['male','female'])\n",
    "plt.xticks(rotation=90)\n",
    "plt.ylim((0,1))\n",
    "plt.title(\"Proportion of Total COVID-19 Deaths vs Time\");"
   ]
  },
  {
   "cell_type": "code",
   "execution_count": 278,
   "metadata": {},
   "outputs": [
    {
     "data": {
      "text/plain": [
       "Text(7.125000000000009, 0.5, 'Female Deaths')"
      ]
     },
     "execution_count": 278,
     "metadata": {},
     "output_type": "execute_result"
    },
    {
     "data": {
      "image/png": "[encoded data removed]",
      "text/plain": [
       "<Figure size 500x500 with 1 Axes>"
      ]
     },
     "metadata": {},
     "output_type": "display_data"
    }
   ],
   "source": [
    "sns.lmplot(data=q4_df, x='Male', y='Female')\n",
    "plt.axline((0,0), slope=1, lw=0.5, c='black')\n",
    "plt.title(\"Correlation Between Male and Female Covid Deaths\");\n",
    "plt.xlabel('Male Deaths')\n",
    "plt.ylabel('Female Deaths')"
   ]
  },
  {
   "cell_type": "markdown",
   "metadata": {},
   "source": [
    "The number of deaths appear highly correlated while likely not having a correlation of 1. "
   ]
  },
  {
   "cell_type": "markdown",
   "metadata": {},
   "source": [
    "## Question 4\n",
    "### What Factors are most important for predicting number of COVID-19 Deaths for a specific record"
   ]
  },
  {
   "cell_type": "code",
   "execution_count": 96,
   "metadata": {},
   "outputs": [],
   "source": [
    "encoder = OneHotEncoder(drop=None, sparse_output=False)\n",
    "start_dates_encoded = encoder.fit_transform(sas_1[['Start Date']])\n",
    "states_encoded = encoder.fit_transform(sas_1[['State']])\n",
    "sex_encoded = encoder.fit_transform(sas_1[['Sex']])\n",
    "age_encoded = encoder.fit_transform(sas_1[['Age Group']])"
   ]
  },
  {
   "cell_type": "code",
   "execution_count": 213,
   "metadata": {},
   "outputs": [],
   "source": [
    "def mse_for_features(X, y, label):\n",
    "    for i in range(100):\n",
    "        kf = KFold(n_splits=5, shuffle=True)\n",
    "\n",
    "        mse = []\n",
    "        for train_indices, test_indices in kf.split(X):\n",
    "            X_train = X[train_indices]\n",
    "            X_test = X[test_indices]\n",
    "            y_train = y[train_indices]\n",
    "            y_test = y[test_indices]\n",
    "\n",
    "            linear_model = LinearRegression(fit_intercept=True, positive=True)\n",
    "            linear_model.fit(X_train, y_train)\n",
    "\n",
    "            # Make predictions\n",
    "            y_pred = linear_model.predict(X_test)\n",
    "            #import pdb; pdb.set_trace()\n",
    "            # Calculate the mean squared error\n",
    "            mse.append((label, mean_squared_error(y_test, y_pred)))\n",
    "    return mse"
   ]
  },
  {
   "cell_type": "code",
   "execution_count": 99,
   "metadata": {},
   "outputs": [],
   "source": [
    "y = sas_1[['COVID-19 Deaths']].fillna(value=0).values"
   ]
  },
  {
   "cell_type": "code",
   "execution_count": 100,
   "metadata": {},
   "outputs": [],
   "source": [
    "X_all = np.concatenate(\n",
    "    [\n",
    "        start_dates_encoded,\n",
    "        states_encoded,\n",
    "        sex_encoded,\n",
    "        age_encoded\n",
    "    ],\n",
    "               axis=1\n",
    "               )"
   ]
  },
  {
   "cell_type": "code",
   "execution_count": 102,
   "metadata": {},
   "outputs": [],
   "source": [
    "X_no_age = np.concatenate(\n",
    "    [\n",
    "        start_dates_encoded,\n",
    "        states_encoded,\n",
    "        sex_encoded,\n",
    "    ],\n",
    "               axis=1\n",
    "               )"
   ]
  },
  {
   "cell_type": "code",
   "execution_count": 103,
   "metadata": {},
   "outputs": [],
   "source": [
    "X_no_sex = np.concatenate(\n",
    "    [\n",
    "        start_dates_encoded,\n",
    "        states_encoded,\n",
    "        age_encoded\n",
    "    ],\n",
    "               axis=1\n",
    "               )"
   ]
  },
  {
   "cell_type": "code",
   "execution_count": 104,
   "metadata": {},
   "outputs": [],
   "source": [
    "X_no_states = np.concatenate(  \n",
    "    [\n",
    "        start_dates_encoded,\n",
    "        sex_encoded,\n",
    "        age_encoded\n",
    "    ],\n",
    "               axis=1\n",
    "               )"
   ]
  },
  {
   "cell_type": "code",
   "execution_count": 105,
   "metadata": {},
   "outputs": [],
   "source": [
    "X_no_time = np.concatenate(  \n",
    "    [\n",
    "        states_encoded,\n",
    "        sex_encoded,\n",
    "        age_encoded\n",
    "    ],\n",
    "               axis=1\n",
    "               )"
   ]
  },
  {
   "cell_type": "code",
   "execution_count": 214,
   "metadata": {},
   "outputs": [],
   "source": [
    "mse_list = []\n",
    "mse_list += mse_for_features(X_all, y, 'All')\n",
    "\n",
    "mse_list += mse_for_features(X_no_time, y, 'No Time')\n",
    "mse_list += mse_for_features(X_no_states, y, 'No States')\n",
    "mse_list += mse_for_features(X_no_age, y, 'No Age')\n",
    "mse_list += mse_for_features(X_no_sex, y, 'No Sex')\n",
    "\n",
    "mse_list += mse_for_features(start_dates_encoded, y, 'Time only')\n",
    "mse_list += mse_for_features(states_encoded, y, 'States only')\n",
    "mse_list += mse_for_features(age_encoded, y, 'Age only')\n",
    "mse_list += mse_for_features(sex_encoded, y, 'Sex only')\n",
    "\n",
    "mse_list += mse_for_features(np.zeros(y.shape), y, 'Constant Model')\n"
   ]
  },
  {
   "cell_type": "code",
   "execution_count": 215,
   "metadata": {},
   "outputs": [
    {
     "data": {
      "text/html": [
       "<div>\n",
       "<style scoped>\n",
       "    .dataframe tbody tr th:only-of-type {\n",
       "        vertical-align: middle;\n",
       "    }\n",
       "\n",
       "    .dataframe tbody tr th {\n",
       "        vertical-align: top;\n",
       "    }\n",
       "\n",
       "    .dataframe thead th {\n",
       "        text-align: right;\n",
       "    }\n",
       "</style>\n",
       "<table border=\"1\" class=\"dataframe\">\n",
       "  <thead>\n",
       "    <tr style=\"text-align: right;\">\n",
       "      <th></th>\n",
       "      <th>Features Used</th>\n",
       "      <th>Mean Squared Error</th>\n",
       "    </tr>\n",
       "  </thead>\n",
       "  <tbody>\n",
       "    <tr>\n",
       "      <th>0</th>\n",
       "      <td>All</td>\n",
       "      <td>10230.577068</td>\n",
       "    </tr>\n",
       "    <tr>\n",
       "      <th>1</th>\n",
       "      <td>All</td>\n",
       "      <td>8176.044551</td>\n",
       "    </tr>\n",
       "    <tr>\n",
       "      <th>2</th>\n",
       "      <td>All</td>\n",
       "      <td>13243.127271</td>\n",
       "    </tr>\n",
       "    <tr>\n",
       "      <th>3</th>\n",
       "      <td>All</td>\n",
       "      <td>10441.308352</td>\n",
       "    </tr>\n",
       "    <tr>\n",
       "      <th>4</th>\n",
       "      <td>All</td>\n",
       "      <td>10275.370198</td>\n",
       "    </tr>\n",
       "  </tbody>\n",
       "</table>\n",
       "</div>"
      ],
      "text/plain": [
       "  Features Used  Mean Squared Error\n",
       "0           All        10230.577068\n",
       "1           All         8176.044551\n",
       "2           All        13243.127271\n",
       "3           All        10441.308352\n",
       "4           All        10275.370198"
      ]
     },
     "metadata": {},
     "output_type": "display_data"
    }
   ],
   "source": [
    "LinReg_df = pd.DataFrame(mse_list, columns=['Features Used', 'Mean Squared Error'])\n",
    "display(LinReg_df.head())"
   ]
  },
  {
   "cell_type": "code",
   "execution_count": 216,
   "metadata": {},
   "outputs": [
    {
     "data": {
      "text/plain": [
       "(7500.0, 20000.0)"
      ]
     },
     "execution_count": 216,
     "metadata": {},
     "output_type": "execute_result"
    },
    {
     "data": {
      "image/png": "[encoded data removed]",
      "text/plain": [
       "<Figure size 640x480 with 1 Axes>"
      ]
     },
     "metadata": {},
     "output_type": "display_data"
    }
   ],
   "source": [
    "sns.boxplot(data=LinReg_df, x='Features Used', y='Mean Squared Error');\n",
    "plt.xticks(rotation=45);\n",
    "plt.axvline(0.5, lw=0.6, c='grey');\n",
    "plt.axvline(4.5, lw=0.6, c='grey');\n",
    "plt.axvline(8.5, lw=0.6, c='grey' );\n",
    "plt.title('Mean Squared Error for COVID-19 Death Predictions vs Features Used')\n",
    "plt.ylim([7500,20000])\n",
    "\n"
   ]
  },
  {
   "cell_type": "markdown",
   "metadata": {},
   "source": [
    "These MSE results for the various features indicate the relative importance of different features: \n",
    "From Least to Most Important: \n",
    "Sex\n",
    "Age\n",
    "State\n",
    "Time \n"
   ]
  }
 ],
 "metadata": {
  "kernelspec": {
   "display_name": "general",
   "language": "python",
   "name": "python3"
  },
  "language_info": {
   "codemirror_mode": {
    "name": "ipython",
    "version": 3
   },
   "file_extension": ".py",
   "mimetype": "text/x-python",
   "name": "python",
   "nbconvert_exporter": "python",
   "pygments_lexer": "ipython3",
   "version": "3.9.1"
  }
 },
 "nbformat": 4,
 "nbformat_minor": 2
}
